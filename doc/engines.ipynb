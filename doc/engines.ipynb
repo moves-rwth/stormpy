{
 "cells": [
  {
   "cell_type": "markdown",
   "metadata": {},
   "source": [
    "# Engines"
   ]
  },
  {
   "cell_type": "markdown",
   "metadata": {},
   "source": [
    "## Background\n",
    "\n",
    "Storm supports different engines for building and checking a model. A detailed comparison of the different engines provided in Storm can be found on the [Storm website](https://www.stormchecker.org/documentation/usage/engines.html)."
   ]
  },
  {
   "cell_type": "markdown",
   "metadata": {},
   "source": [
    "## Sparse engine\n",
    "\n",
    "In all of the examples so far we used the default sparse engine:"
   ]
  },
  {
   "cell_type": "code",
   "execution_count": 1,
   "metadata": {
    "execution": {
     "iopub.execute_input": "2025-05-14T10:52:14.586259Z",
     "iopub.status.busy": "2025-05-14T10:52:14.585853Z",
     "iopub.status.idle": "2025-05-14T10:52:14.638481Z",
     "shell.execute_reply": "2025-05-14T10:52:14.638060Z"
    }
   },
   "outputs": [
    {
     "name": "stdout",
     "output_type": "stream",
     "text": [
      "<class 'stormpy.storage.storage.SparseDtmc'>\n"
     ]
    }
   ],
   "source": [
    "import stormpy.examples\n",
    "import stormpy.examples.files\n",
    "\n",
    "prism_program = stormpy.parse_prism_program(stormpy.examples.files.prism_dtmc_die)\n",
    "properties = stormpy.parse_properties('P=? [F \"one\"]', prism_program)\n",
    "sparse_model = stormpy.build_sparse_model(prism_program, properties)\n",
    "print(type(sparse_model))"
   ]
  },
  {
   "cell_type": "code",
   "execution_count": 2,
   "metadata": {
    "execution": {
     "iopub.execute_input": "2025-05-14T10:52:14.640120Z",
     "iopub.status.busy": "2025-05-14T10:52:14.639824Z",
     "iopub.status.idle": "2025-05-14T10:52:14.642653Z",
     "shell.execute_reply": "2025-05-14T10:52:14.642255Z"
    }
   },
   "outputs": [
    {
     "name": "stdout",
     "output_type": "stream",
     "text": [
      "Number of states: 13\n"
     ]
    }
   ],
   "source": [
    "print(\"Number of states: {}\".format(sparse_model.nr_states))"
   ]
  },
  {
   "cell_type": "code",
   "execution_count": 3,
   "metadata": {
    "execution": {
     "iopub.execute_input": "2025-05-14T10:52:14.644190Z",
     "iopub.status.busy": "2025-05-14T10:52:14.643849Z",
     "iopub.status.idle": "2025-05-14T10:52:14.646286Z",
     "shell.execute_reply": "2025-05-14T10:52:14.645903Z"
    }
   },
   "outputs": [
    {
     "name": "stdout",
     "output_type": "stream",
     "text": [
      "Number of transitions: 20\n"
     ]
    }
   ],
   "source": [
    "print(\"Number of transitions: {}\".format(sparse_model.nr_transitions))"
   ]
  },
  {
   "cell_type": "code",
   "execution_count": 4,
   "metadata": {
    "execution": {
     "iopub.execute_input": "2025-05-14T10:52:14.647783Z",
     "iopub.status.busy": "2025-05-14T10:52:14.647518Z",
     "iopub.status.idle": "2025-05-14T10:52:14.650503Z",
     "shell.execute_reply": "2025-05-14T10:52:14.650122Z"
    }
   },
   "outputs": [
    {
     "name": "stdout",
     "output_type": "stream",
     "text": [
      "0.16666666666666666\n"
     ]
    }
   ],
   "source": [
    "sparse_result = stormpy.check_model_sparse(sparse_model, properties[0])\n",
    "initial_state = sparse_model.initial_states[0]\n",
    "print(sparse_result.at(initial_state))"
   ]
  },
  {
   "cell_type": "markdown",
   "metadata": {},
   "source": [
    "## Symbolic engine\n",
    "\n",
    "Instead of using the sparse engine, one can also use a symbolic representation in terms of binary decision diagrams (BDDs).\n",
    "To use the symbolic (dd) engine, we use the symbolic versions for the building and model checking:\n"
   ]
  },
  {
   "cell_type": "code",
   "execution_count": 5,
   "metadata": {
    "execution": {
     "iopub.execute_input": "2025-05-14T10:52:14.651968Z",
     "iopub.status.busy": "2025-05-14T10:52:14.651710Z",
     "iopub.status.idle": "2025-05-14T10:52:14.824383Z",
     "shell.execute_reply": "2025-05-14T10:52:14.823814Z"
    }
   },
   "outputs": [
    {
     "name": "stdout",
     "output_type": "stream",
     "text": [
      "<class 'stormpy.storage.storage.SymbolicSylvanDtmc'>\n"
     ]
    }
   ],
   "source": [
    "symbolic_model = stormpy.build_symbolic_model(prism_program, properties)\n",
    "print(type(symbolic_model))"
   ]
  },
  {
   "cell_type": "code",
   "execution_count": 6,
   "metadata": {
    "execution": {
     "iopub.execute_input": "2025-05-14T10:52:14.827310Z",
     "iopub.status.busy": "2025-05-14T10:52:14.827084Z",
     "iopub.status.idle": "2025-05-14T10:52:14.834027Z",
     "shell.execute_reply": "2025-05-14T10:52:14.832621Z"
    }
   },
   "outputs": [
    {
     "name": "stdout",
     "output_type": "stream",
     "text": [
      "Number of states: 13\n"
     ]
    }
   ],
   "source": [
    "print(\"Number of states: {}\".format(symbolic_model.nr_states))"
   ]
  },
  {
   "cell_type": "code",
   "execution_count": 7,
   "metadata": {
    "execution": {
     "iopub.execute_input": "2025-05-14T10:52:14.835656Z",
     "iopub.status.busy": "2025-05-14T10:52:14.835445Z",
     "iopub.status.idle": "2025-05-14T10:52:14.841241Z",
     "shell.execute_reply": "2025-05-14T10:52:14.840787Z"
    }
   },
   "outputs": [
    {
     "name": "stdout",
     "output_type": "stream",
     "text": [
      "Number of transitions: 20\n"
     ]
    }
   ],
   "source": [
    "print(\"Number of transitions: {}\".format(symbolic_model.nr_transitions))"
   ]
  },
  {
   "cell_type": "code",
   "execution_count": 8,
   "metadata": {
    "execution": {
     "iopub.execute_input": "2025-05-14T10:52:14.843973Z",
     "iopub.status.busy": "2025-05-14T10:52:14.842929Z",
     "iopub.status.idle": "2025-05-14T10:52:14.873045Z",
     "shell.execute_reply": "2025-05-14T10:52:14.872600Z"
    }
   },
   "outputs": [
    {
     "name": "stdout",
     "output_type": "stream",
     "text": [
      "[0, 1] (range)\n"
     ]
    }
   ],
   "source": [
    "symbolic_result = stormpy.check_model_dd(symbolic_model, properties[0])\n",
    "print(symbolic_result)"
   ]
  },
  {
   "cell_type": "markdown",
   "metadata": {},
   "source": [
    "We can also filter the computed results and only consider the initial states:"
   ]
  },
  {
   "cell_type": "code",
   "execution_count": 9,
   "metadata": {
    "execution": {
     "iopub.execute_input": "2025-05-14T10:52:14.878400Z",
     "iopub.status.busy": "2025-05-14T10:52:14.878176Z",
     "iopub.status.idle": "2025-05-14T10:52:14.882155Z",
     "shell.execute_reply": "2025-05-14T10:52:14.881672Z"
    }
   },
   "outputs": [
    {
     "name": "stdout",
     "output_type": "stream",
     "text": [
      "0.16666650772094727\n"
     ]
    }
   ],
   "source": [
    "filter = stormpy.create_filter_initial_states_symbolic(symbolic_model)\n",
    "symbolic_result.filter(filter)\n",
    "print(symbolic_result.min)"
   ]
  },
  {
   "cell_type": "markdown",
   "metadata": {},
   "source": [
    "It is also possible to first build the model symbolically and then transform it into a sparse model:"
   ]
  },
  {
   "cell_type": "code",
   "execution_count": 10,
   "metadata": {
    "execution": {
     "iopub.execute_input": "2025-05-14T10:52:14.885243Z",
     "iopub.status.busy": "2025-05-14T10:52:14.885024Z",
     "iopub.status.idle": "2025-05-14T10:52:14.890152Z",
     "shell.execute_reply": "2025-05-14T10:52:14.888463Z"
    }
   },
   "outputs": [
    {
     "name": "stdout",
     "output_type": "stream",
     "text": [
      "<class 'stormpy.storage.storage.SymbolicSylvanDtmc'>\n"
     ]
    }
   ],
   "source": [
    "print(type(symbolic_model))"
   ]
  },
  {
   "cell_type": "code",
   "execution_count": 11,
   "metadata": {
    "execution": {
     "iopub.execute_input": "2025-05-14T10:52:14.894168Z",
     "iopub.status.busy": "2025-05-14T10:52:14.892972Z",
     "iopub.status.idle": "2025-05-14T10:52:14.906189Z",
     "shell.execute_reply": "2025-05-14T10:52:14.905705Z"
    }
   },
   "outputs": [
    {
     "name": "stdout",
     "output_type": "stream",
     "text": [
      "<class 'stormpy.storage.storage.SparseDtmc'>\n"
     ]
    }
   ],
   "source": [
    "transformed_model = stormpy.transform_to_sparse_model(symbolic_model)\n",
    "print(type(transformed_model))"
   ]
  },
  {
   "cell_type": "markdown",
   "metadata": {},
   "source": [
    "## Hybrid engine\n",
    "\n",
    "A third possibility is to use the hybrid engine, a combination of sparse and dd engines.\n",
    "It first builds the model symbolically.\n",
    "The actual model checking is then performed with the engine which is deemed most suitable for the given task.\n"
   ]
  },
  {
   "cell_type": "code",
   "execution_count": 12,
   "metadata": {
    "execution": {
     "iopub.execute_input": "2025-05-14T10:52:14.909186Z",
     "iopub.status.busy": "2025-05-14T10:52:14.907661Z",
     "iopub.status.idle": "2025-05-14T10:52:14.914135Z",
     "shell.execute_reply": "2025-05-14T10:52:14.913657Z"
    }
   },
   "outputs": [
    {
     "name": "stdout",
     "output_type": "stream",
     "text": [
      "<class 'stormpy.storage.storage.SymbolicSylvanDtmc'>\n"
     ]
    }
   ],
   "source": [
    "print(type(symbolic_model))"
   ]
  },
  {
   "cell_type": "code",
   "execution_count": 13,
   "metadata": {
    "execution": {
     "iopub.execute_input": "2025-05-14T10:52:14.915681Z",
     "iopub.status.busy": "2025-05-14T10:52:14.915464Z",
     "iopub.status.idle": "2025-05-14T10:52:14.925725Z",
     "shell.execute_reply": "2025-05-14T10:52:14.923159Z"
    }
   },
   "outputs": [
    {
     "name": "stdout",
     "output_type": "stream",
     "text": [
      "0.166667\n"
     ]
    }
   ],
   "source": [
    "hybrid_result = stormpy.check_model_hybrid(symbolic_model, properties[0])\n",
    "filter = stormpy.create_filter_initial_states_symbolic(symbolic_model)\n",
    "hybrid_result.filter(filter)\n",
    "print(hybrid_result)"
   ]
  }
 ],
 "metadata": {
  "date": 1598178167.148,
  "filename": "engines.rst",
  "kernelspec": {
   "display_name": "Python 3",
   "language": "python",
   "name": "python3"
  },
  "language_info": {
   "codemirror_mode": {
    "name": "ipython",
    "version": 3
   },
   "file_extension": ".py",
   "mimetype": "text/x-python",
   "name": "python",
   "nbconvert_exporter": "python",
   "pygments_lexer": "ipython3",
   "version": "3.12.3"
  },
  "title": "Engines"
 },
 "nbformat": 4,
 "nbformat_minor": 4
}
