{
 "cells": [
  {
   "cell_type": "markdown",
   "metadata": {},
   "source": [
    "# Engines"
   ]
  },
  {
   "cell_type": "markdown",
   "metadata": {},
   "source": [
    "## Background\n",
    "\n",
    "Storm supports different engines for building and checking a model. A detailed comparison of the different engines provided in Storm can be found on the [Storm website](https://www.stormchecker.org/documentation/usage/engines.html)."
   ]
  },
  {
   "cell_type": "markdown",
   "metadata": {},
   "source": [
    "## Sparse engine\n",
    "\n",
    "In all of the examples so far we used the default sparse engine:"
   ]
  },
  {
   "cell_type": "code",
   "execution_count": 1,
   "metadata": {
    "execution": {
     "iopub.execute_input": "2025-05-21T10:47:21.017723Z",
     "iopub.status.busy": "2025-05-21T10:47:21.017529Z",
     "iopub.status.idle": "2025-05-21T10:47:21.071022Z",
     "shell.execute_reply": "2025-05-21T10:47:21.070562Z"
    }
   },
   "outputs": [
    {
     "name": "stdout",
     "output_type": "stream",
     "text": [
      "<class 'stormpy.storage.storage.SparseDtmc'>\n"
     ]
    }
   ],
   "source": [
    "import stormpy.examples\n",
    "import stormpy.examples.files\n",
    "\n",
    "prism_program = stormpy.parse_prism_program(stormpy.examples.files.prism_dtmc_die)\n",
    "properties = stormpy.parse_properties('P=? [F \"one\"]', prism_program)\n",
    "sparse_model = stormpy.build_sparse_model(prism_program, properties)\n",
    "print(type(sparse_model))"
   ]
  },
  {
   "cell_type": "code",
   "execution_count": 2,
   "metadata": {
    "execution": {
     "iopub.execute_input": "2025-05-21T10:47:21.072614Z",
     "iopub.status.busy": "2025-05-21T10:47:21.072434Z",
     "iopub.status.idle": "2025-05-21T10:47:21.075506Z",
     "shell.execute_reply": "2025-05-21T10:47:21.075081Z"
    }
   },
   "outputs": [
    {
     "name": "stdout",
     "output_type": "stream",
     "text": [
      "Number of states: 13\n"
     ]
    }
   ],
   "source": [
    "print(\"Number of states: {}\".format(sparse_model.nr_states))"
   ]
  },
  {
   "cell_type": "code",
   "execution_count": 3,
   "metadata": {
    "execution": {
     "iopub.execute_input": "2025-05-21T10:47:21.077153Z",
     "iopub.status.busy": "2025-05-21T10:47:21.076779Z",
     "iopub.status.idle": "2025-05-21T10:47:21.079437Z",
     "shell.execute_reply": "2025-05-21T10:47:21.079030Z"
    }
   },
   "outputs": [
    {
     "name": "stdout",
     "output_type": "stream",
     "text": [
      "Number of transitions: 20\n"
     ]
    }
   ],
   "source": [
    "print(\"Number of transitions: {}\".format(sparse_model.nr_transitions))"
   ]
  },
  {
   "cell_type": "code",
   "execution_count": 4,
   "metadata": {
    "execution": {
     "iopub.execute_input": "2025-05-21T10:47:21.081099Z",
     "iopub.status.busy": "2025-05-21T10:47:21.080672Z",
     "iopub.status.idle": "2025-05-21T10:47:21.084127Z",
     "shell.execute_reply": "2025-05-21T10:47:21.083719Z"
    }
   },
   "outputs": [
    {
     "name": "stdout",
     "output_type": "stream",
     "text": [
      "0.16666666666666666\n"
     ]
    }
   ],
   "source": [
    "sparse_result = stormpy.check_model_sparse(sparse_model, properties[0])\n",
    "initial_state = sparse_model.initial_states[0]\n",
    "print(sparse_result.at(initial_state))"
   ]
  },
  {
   "cell_type": "markdown",
   "metadata": {},
   "source": [
    "## Symbolic engine\n",
    "\n",
    "Instead of using the sparse engine, one can also use a symbolic representation in terms of binary decision diagrams (BDDs).\n",
    "To use the symbolic (dd) engine, we use the symbolic versions for the building and model checking:\n"
   ]
  },
  {
   "cell_type": "code",
   "execution_count": 5,
   "metadata": {
    "execution": {
     "iopub.execute_input": "2025-05-21T10:47:21.085785Z",
     "iopub.status.busy": "2025-05-21T10:47:21.085420Z",
     "iopub.status.idle": "2025-05-21T10:47:21.271810Z",
     "shell.execute_reply": "2025-05-21T10:47:21.271244Z"
    }
   },
   "outputs": [
    {
     "name": "stdout",
     "output_type": "stream",
     "text": [
      "<class 'stormpy.storage.storage.SymbolicSylvanDtmc'>\n"
     ]
    }
   ],
   "source": [
    "symbolic_model = stormpy.build_symbolic_model(prism_program, properties)\n",
    "print(type(symbolic_model))"
   ]
  },
  {
   "cell_type": "code",
   "execution_count": 6,
   "metadata": {
    "execution": {
     "iopub.execute_input": "2025-05-21T10:47:21.274793Z",
     "iopub.status.busy": "2025-05-21T10:47:21.274592Z",
     "iopub.status.idle": "2025-05-21T10:47:21.283554Z",
     "shell.execute_reply": "2025-05-21T10:47:21.280266Z"
    }
   },
   "outputs": [
    {
     "name": "stdout",
     "output_type": "stream",
     "text": [
      "Number of states: 13\n"
     ]
    }
   ],
   "source": [
    "print(\"Number of states: {}\".format(symbolic_model.nr_states))"
   ]
  },
  {
   "cell_type": "code",
   "execution_count": 7,
   "metadata": {
    "execution": {
     "iopub.execute_input": "2025-05-21T10:47:21.285202Z",
     "iopub.status.busy": "2025-05-21T10:47:21.285015Z",
     "iopub.status.idle": "2025-05-21T10:47:21.294589Z",
     "shell.execute_reply": "2025-05-21T10:47:21.294090Z"
    }
   },
   "outputs": [
    {
     "name": "stdout",
     "output_type": "stream",
     "text": [
      "Number of transitions: 20\n"
     ]
    }
   ],
   "source": [
    "print(\"Number of transitions: {}\".format(symbolic_model.nr_transitions))"
   ]
  },
  {
   "cell_type": "code",
   "execution_count": 8,
   "metadata": {
    "execution": {
     "iopub.execute_input": "2025-05-21T10:47:21.296494Z",
     "iopub.status.busy": "2025-05-21T10:47:21.296096Z",
     "iopub.status.idle": "2025-05-21T10:47:21.330167Z",
     "shell.execute_reply": "2025-05-21T10:47:21.329647Z"
    }
   },
   "outputs": [
    {
     "name": "stdout",
     "output_type": "stream",
     "text": [
      "[0, 1] (range)\n"
     ]
    }
   ],
   "source": [
    "symbolic_result = stormpy.check_model_dd(symbolic_model, properties[0])\n",
    "print(symbolic_result)"
   ]
  },
  {
   "cell_type": "markdown",
   "metadata": {},
   "source": [
    "We can also filter the computed results and only consider the initial states:"
   ]
  },
  {
   "cell_type": "code",
   "execution_count": 9,
   "metadata": {
    "execution": {
     "iopub.execute_input": "2025-05-21T10:47:21.332261Z",
     "iopub.status.busy": "2025-05-21T10:47:21.331985Z",
     "iopub.status.idle": "2025-05-21T10:47:21.342511Z",
     "shell.execute_reply": "2025-05-21T10:47:21.339488Z"
    }
   },
   "outputs": [
    {
     "name": "stdout",
     "output_type": "stream",
     "text": [
      "0.16666650772094727\n"
     ]
    }
   ],
   "source": [
    "filter = stormpy.create_filter_initial_states_symbolic(symbolic_model)\n",
    "symbolic_result.filter(filter)\n",
    "print(symbolic_result.min)"
   ]
  },
  {
   "cell_type": "markdown",
   "metadata": {},
   "source": [
    "It is also possible to first build the model symbolically and then transform it into a sparse model:"
   ]
  },
  {
   "cell_type": "code",
   "execution_count": 10,
   "metadata": {
    "execution": {
     "iopub.execute_input": "2025-05-21T10:47:21.344602Z",
     "iopub.status.busy": "2025-05-21T10:47:21.344395Z",
     "iopub.status.idle": "2025-05-21T10:47:21.349548Z",
     "shell.execute_reply": "2025-05-21T10:47:21.349047Z"
    }
   },
   "outputs": [
    {
     "name": "stdout",
     "output_type": "stream",
     "text": [
      "<class 'stormpy.storage.storage.SymbolicSylvanDtmc'>\n"
     ]
    }
   ],
   "source": [
    "print(type(symbolic_model))"
   ]
  },
  {
   "cell_type": "code",
   "execution_count": 11,
   "metadata": {
    "execution": {
     "iopub.execute_input": "2025-05-21T10:47:21.351428Z",
     "iopub.status.busy": "2025-05-21T10:47:21.351234Z",
     "iopub.status.idle": "2025-05-21T10:47:21.365632Z",
     "shell.execute_reply": "2025-05-21T10:47:21.365136Z"
    }
   },
   "outputs": [
    {
     "name": "stdout",
     "output_type": "stream",
     "text": [
      "<class 'stormpy.storage.storage.SparseDtmc'>\n"
     ]
    }
   ],
   "source": [
    "transformed_model = stormpy.transform_to_sparse_model(symbolic_model)\n",
    "print(type(transformed_model))"
   ]
  },
  {
   "cell_type": "markdown",
   "metadata": {},
   "source": [
    "## Hybrid engine\n",
    "\n",
    "A third possibility is to use the hybrid engine, a combination of sparse and dd engines.\n",
    "It first builds the model symbolically.\n",
    "The actual model checking is then performed with the engine which is deemed most suitable for the given task.\n"
   ]
  },
  {
   "cell_type": "code",
   "execution_count": 12,
   "metadata": {
    "execution": {
     "iopub.execute_input": "2025-05-21T10:47:21.367749Z",
     "iopub.status.busy": "2025-05-21T10:47:21.367523Z",
     "iopub.status.idle": "2025-05-21T10:47:21.375540Z",
     "shell.execute_reply": "2025-05-21T10:47:21.370693Z"
    }
   },
   "outputs": [
    {
     "name": "stdout",
     "output_type": "stream",
     "text": [
      "<class 'stormpy.storage.storage.SymbolicSylvanDtmc'>\n"
     ]
    }
   ],
   "source": [
    "print(type(symbolic_model))"
   ]
  },
  {
   "cell_type": "code",
   "execution_count": 13,
   "metadata": {
    "execution": {
     "iopub.execute_input": "2025-05-21T10:47:21.380724Z",
     "iopub.status.busy": "2025-05-21T10:47:21.380466Z",
     "iopub.status.idle": "2025-05-21T10:47:21.388781Z",
     "shell.execute_reply": "2025-05-21T10:47:21.388244Z"
    }
   },
   "outputs": [
    {
     "name": "stdout",
     "output_type": "stream",
     "text": [
      "0.166667\n"
     ]
    }
   ],
   "source": [
    "hybrid_result = stormpy.check_model_hybrid(symbolic_model, properties[0])\n",
    "filter = stormpy.create_filter_initial_states_symbolic(symbolic_model)\n",
    "hybrid_result.filter(filter)\n",
    "print(hybrid_result)"
   ]
  }
 ],
 "metadata": {
  "date": 1598178167.148,
  "filename": "engines.rst",
  "kernelspec": {
   "display_name": "Python 3",
   "language": "python",
   "name": "python3"
  },
  "language_info": {
   "codemirror_mode": {
    "name": "ipython",
    "version": 3
   },
   "file_extension": ".py",
   "mimetype": "text/x-python",
   "name": "python",
   "nbconvert_exporter": "python",
   "pygments_lexer": "ipython3",
   "version": "3.13.3"
  },
  "title": "Engines"
 },
 "nbformat": 4,
 "nbformat_minor": 4
}
