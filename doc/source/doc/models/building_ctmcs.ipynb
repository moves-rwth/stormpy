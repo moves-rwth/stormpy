{
 "cells": [
  {
   "cell_type": "markdown",
   "metadata": {},
   "source": [
    "# Continuous-time Markov chains (CTMCs)"
   ]
  },
  {
   "cell_type": "markdown",
   "metadata": {},
   "source": [
    "## Background\n",
    "\n",
    "In this section, we explain how Stormpy can be used to build a simple CTMC.\n",
    "Building CTMCs works similar to building DTMCs as in [Discrete-time Markov chains (DTMCs)](building_dtmcs.ipynb), however instead of transition probabilities we use transition rates.\n",
    "\n",
    "[01-building-ctmcs.py](https://github.com/moves-rwth/stormpy/blob/master/examples/building_ctmcs/01-building-ctmcs.py)\n",
    "\n",
    "First, we import Stormpy:"
   ]
  },
  {
   "cell_type": "code",
   "execution_count": null,
   "metadata": {
    "hide-output": false
   },
   "outputs": [],
   "source": [
    "import stormpy"
   ]
  },
  {
   "cell_type": "markdown",
   "metadata": {},
   "source": [
    "## Transition Matrix\n",
    "\n",
    "In this example, we build the transition matrix using a numpy array"
   ]
  },
  {
   "cell_type": "code",
   "execution_count": null,
   "metadata": {},
   "outputs": [],
   "source": [
    "import numpy as np\n",
    "\n",
    "transitions = np.array(\n",
    "    [\n",
    "        [0, 1.5, 0, 0],\n",
    "        [3, 0, 1.5, 0],\n",
    "        [0, 3, 0, 1.5],\n",
    "        [0, 0, 3, 0],\n",
    "    ],\n",
    "    dtype=\"float64\",\n",
    ")"
   ]
  },
  {
   "cell_type": "markdown",
   "metadata": {},
   "source": [
    "The following function call returns a sparse matrix with default row groups:"
   ]
  },
  {
   "cell_type": "code",
   "execution_count": null,
   "metadata": {
    "hide-output": false
   },
   "outputs": [],
   "source": [
    "transition_matrix = stormpy.build_sparse_matrix(transitions)\n",
    "print(transition_matrix)"
   ]
  },
  {
   "cell_type": "markdown",
   "metadata": {},
   "source": [
    "## Labeling\n",
    "\n",
    "The state labeling is created analogously to the previous example in [building DTMCs](building_dtmcs.ipynb#labeling):"
   ]
  },
  {
   "cell_type": "code",
   "execution_count": null,
   "metadata": {
    "hide-output": false
   },
   "outputs": [],
   "source": [
    "state_labeling = stormpy.storage.StateLabeling(4)\n",
    "state_labels = {\"empty\", \"init\", \"deadlock\", \"full\"}\n",
    "for label in state_labels:\n",
    "    state_labeling.add_label(label)\n",
    "state_labeling.add_label_to_state(\"init\", 0)\n",
    "state_labeling.add_label_to_state(\"empty\", 0)\n",
    "state_labeling.add_label_to_state(\"full\", 3)"
   ]
  },
  {
   "cell_type": "markdown",
   "metadata": {},
   "source": [
    "## Building the Model\n",
    "\n",
    "Now, we can collect all components, including the choice labeling.\n",
    "To let the transition values be interpreted as rates we set rate_transitions to True:"
   ]
  },
  {
   "cell_type": "code",
   "execution_count": null,
   "metadata": {
    "hide-output": false
   },
   "outputs": [],
   "source": [
    "components = stormpy.SparseModelComponents(transition_matrix=transition_matrix, state_labeling=state_labeling, rate_transitions=True)"
   ]
  },
  {
   "cell_type": "markdown",
   "metadata": {},
   "source": [
    "And finally, we can build the model:"
   ]
  },
  {
   "cell_type": "code",
   "execution_count": null,
   "metadata": {
    "hide-output": false
   },
   "outputs": [],
   "source": [
    "ctmc = stormpy.storage.SparseCtmc(components)\n",
    "print(ctmc)"
   ]
  }
 ],
 "metadata": {
  "date": 1598178167.1853151,
  "filename": "building_ctmcs.rst",
  "kernelspec": {
   "display_name": "Python 3",
   "language": "python",
   "name": "python3"
  },
  "language_info": {
   "codemirror_mode": {
    "name": "ipython",
    "version": 3
   },
   "file_extension": ".py",
   "mimetype": "text/x-python",
   "name": "python",
   "nbconvert_exporter": "python",
   "pygments_lexer": "ipython3",
   "version": "3.8.2"
  },
  "title": "Continuous-time Markov chains (CTMCs)"
 },
 "nbformat": 4,
 "nbformat_minor": 4
}
