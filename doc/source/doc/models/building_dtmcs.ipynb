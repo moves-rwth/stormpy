{
 "cells": [
  {
   "cell_type": "markdown",
   "metadata": {},
   "source": [
    "# Discrete-time Markov chains (DTMCs)"
   ]
  },
  {
   "cell_type": "markdown",
   "metadata": {},
   "source": [
    "## Background\n",
    "\n",
    "As described in [Getting Started](../../getting_started.ipynb),\n",
    "Storm can be used to translate a model description e.g. in form of a prism file into a Markov chain.\n",
    "\n",
    "Here, we use Stormpy to create the components for a model and build a DTMC directly from these components without parsing a model description.\n",
    "We consider the previous example of the Knuth-Yao die.\n",
    "\n",
    "[01-building-dtmcs.py](https://github.com/moves-rwth/stormpy/blob/master/examples/building_dtmcs/01-building-dtmcs.py)\n",
    "\n",
    "In the following we create the transition matrix, the state labeling and the reward models of a DTMC.\n",
    "First, we import stormpy:"
   ]
  },
  {
   "cell_type": "code",
   "execution_count": null,
   "metadata": {
    "hide-output": false
   },
   "outputs": [],
   "source": [
    "import stormpy"
   ]
  },
  {
   "cell_type": "markdown",
   "metadata": {},
   "source": [
    "## Transition Matrix\n",
    "\n",
    "We begin by creating the matrix representing the transitions in the model in terms of probabilities.\n",
    "For constructing the transition matrix, we use the SparseMatrixBuilder:"
   ]
  },
  {
   "cell_type": "code",
   "execution_count": null,
   "metadata": {
    "hide-output": false
   },
   "outputs": [],
   "source": [
    "builder = stormpy.SparseMatrixBuilder(rows=0, columns=0, entries=0, force_dimensions=False, has_custom_row_grouping=False)"
   ]
  },
  {
   "cell_type": "markdown",
   "metadata": {},
   "source": [
    "Here, we start with an empty matrix to later insert more entries.\n",
    "If the number of rows, columns and entries is known, the matrix can be constructed using these values.\n",
    "\n",
    "For DTMCs each state has at most one outgoing probability distribution.\n",
    "Thus, we create a matrix with trivial row grouping where each group contains one row representing the state action.\n",
    "In [Markov decision processes (MDPs)](building_mdps.ipynb) we will revisit the example of the die, but extend the model with nondeterministic choice.\n",
    "\n",
    "We specify the transitions of the model by adding values to the matrix where the column represents the target state.\n",
    "All transitions are equipped with a probability defined by the value:"
   ]
  },
  {
   "cell_type": "code",
   "execution_count": null,
   "metadata": {
    "hide-output": false
   },
   "outputs": [],
   "source": [
    "builder.add_next_value(row=0, column=1, value=0.5)\n",
    "builder.add_next_value(0, 2, 0.5)\n",
    "builder.add_next_value(1, 3, 0.5)\n",
    "builder.add_next_value(1, 4, 0.5)\n",
    "builder.add_next_value(2, 5, 0.5)\n",
    "builder.add_next_value(2, 6, 0.5)\n",
    "builder.add_next_value(3, 7, 0.5)\n",
    "builder.add_next_value(3, 1, 0.5)\n",
    "builder.add_next_value(4, 8, 0.5)\n",
    "builder.add_next_value(4, 9, 0.5)\n",
    "builder.add_next_value(5, 10, 0.5)\n",
    "builder.add_next_value(5, 11, 0.5)\n",
    "builder.add_next_value(6, 2, 0.5)\n",
    "builder.add_next_value(6, 12, 0.5)"
   ]
  },
  {
   "cell_type": "markdown",
   "metadata": {},
   "source": [
    "Lastly, we add a self-loop with probability one to the final states:"
   ]
  },
  {
   "cell_type": "code",
   "execution_count": null,
   "metadata": {
    "hide-output": false
   },
   "outputs": [],
   "source": [
    "for s in range(7, 13):\n",
    "    builder.add_next_value(s, s, 1)"
   ]
  },
  {
   "cell_type": "markdown",
   "metadata": {},
   "source": [
    "Finally, we can build the matrix:"
   ]
  },
  {
   "cell_type": "code",
   "execution_count": null,
   "metadata": {
    "hide-output": false
   },
   "outputs": [],
   "source": [
    "transition_matrix = builder.build()"
   ]
  },
  {
   "cell_type": "markdown",
   "metadata": {},
   "source": [
    "It should be noted that entries can only be inserted in ascending order, i.e. row by row and column by column.\n",
    "Stormpy provides the possibility to build a sparse matrix using the numpy library ([https://numpy.org/](https://numpy.org/) )\n",
    "Instead of using the SparseMatrixBuilder, a sparse matrix can be build from a numpy array via the method stormpy.build_sparse_matrix.\n",
    "An example is given in [building CTMCs](building_ctmcs.ipynb#transition-matrix)."
   ]
  },
  {
   "cell_type": "markdown",
   "metadata": {},
   "source": [
    "## Labeling\n",
    "\n",
    "States can be labeled with sets of propositions, for example state 0 can be labeled with “init”.\n",
    "In order to specify the state labeling we create an empty labeling for the given number of states and add the labels to the labeling:"
   ]
  },
  {
   "cell_type": "code",
   "execution_count": null,
   "metadata": {
    "hide-output": false
   },
   "outputs": [],
   "source": [
    "state_labeling = stormpy.storage.StateLabeling(13)\n",
    "\n",
    "labels = {\"init\", \"one\", \"two\", \"three\", \"four\", \"five\", \"six\", \"done\", \"deadlock\"}\n",
    "for label in labels:\n",
    "    state_labeling.add_label(label)"
   ]
  },
  {
   "cell_type": "markdown",
   "metadata": {},
   "source": [
    "Labels can be asociated with states. As an example, we label the state 0 with “init”:"
   ]
  },
  {
   "cell_type": "code",
   "execution_count": null,
   "metadata": {
    "hide-output": false
   },
   "outputs": [],
   "source": [
    "state_labeling.add_label_to_state(\"init\", 0)\n",
    "print(state_labeling.get_states(\"init\"))"
   ]
  },
  {
   "cell_type": "markdown",
   "metadata": {},
   "source": [
    "Next, we set the associations between the remaining labels and states.:"
   ]
  },
  {
   "cell_type": "code",
   "execution_count": null,
   "metadata": {
    "hide-output": false
   },
   "outputs": [],
   "source": [
    "state_labeling.add_label_to_state(\"one\", 7)\n",
    "state_labeling.add_label_to_state(\"two\", 8)\n",
    "state_labeling.add_label_to_state(\"three\", 9)\n",
    "state_labeling.add_label_to_state(\"four\", 10)\n",
    "state_labeling.add_label_to_state(\"five\", 11)\n",
    "state_labeling.add_label_to_state(\"six\", 12)"
   ]
  },
  {
   "cell_type": "markdown",
   "metadata": {},
   "source": [
    "To set the same label for multiple states, we can use a BitVector representation for the set of states:"
   ]
  },
  {
   "cell_type": "code",
   "execution_count": null,
   "metadata": {
    "hide-output": false
   },
   "outputs": [],
   "source": [
    "state_labeling.set_states(\"done\", stormpy.BitVector(13, [7, 8, 9, 10, 11, 12]))\n",
    "print(state_labeling)"
   ]
  },
  {
   "cell_type": "markdown",
   "metadata": {},
   "source": [
    "Defining a choice labeling is possible in a similar way."
   ]
  },
  {
   "cell_type": "markdown",
   "metadata": {},
   "source": [
    "## Reward Models\n",
    "\n",
    "Stormpy supports multiple reward models such as state rewards, state-action rewards and as transition rewards.\n",
    "In this example, the actions of states which satisfy s<7 acquire a reward of 1.0.\n",
    "\n",
    "The state-action rewards are represented by a vector, which is associated to a reward model named “coin_flips”:"
   ]
  },
  {
   "cell_type": "code",
   "execution_count": null,
   "metadata": {
    "hide-output": false
   },
   "outputs": [],
   "source": [
    "reward_models = {}\n",
    "action_reward = [1.0, 1.0, 1.0, 1.0, 1.0, 1.0, 1.0, 0.0, 0.0, 0.0, 0.0, 0.0, 0.0]\n",
    "reward_models[\"coin_flips\"] = stormpy.SparseRewardModel(optional_state_action_reward_vector=action_reward)"
   ]
  },
  {
   "cell_type": "markdown",
   "metadata": {},
   "source": [
    "## Building the Model\n",
    "\n",
    "Next, we collect all components:"
   ]
  },
  {
   "cell_type": "code",
   "execution_count": null,
   "metadata": {
    "hide-output": false
   },
   "outputs": [],
   "source": [
    "components = stormpy.SparseModelComponents(transition_matrix=transition_matrix, state_labeling=state_labeling, reward_models=reward_models)"
   ]
  },
  {
   "cell_type": "markdown",
   "metadata": {},
   "source": [
    "And finally, we can build the DTMC:"
   ]
  },
  {
   "cell_type": "code",
   "execution_count": null,
   "metadata": {
    "hide-output": false
   },
   "outputs": [],
   "source": [
    "dtmc = stormpy.storage.SparseDtmc(components)\n",
    "print(dtmc)"
   ]
  }
 ],
 "metadata": {
  "date": 1598178167.203723,
  "filename": "building_dtmcs.rst",
  "kernelspec": {
   "display_name": "Python 3",
   "language": "python",
   "name": "python3"
  },
  "language_info": {
   "codemirror_mode": {
    "name": "ipython",
    "version": 3
   },
   "file_extension": ".py",
   "mimetype": "text/x-python",
   "name": "python",
   "nbconvert_exporter": "python",
   "pygments_lexer": "ipython3",
   "version": "3.8.2"
  },
  "title": "Discrete-time Markov chains (DTMCs)"
 },
 "nbformat": 4,
 "nbformat_minor": 4
}
