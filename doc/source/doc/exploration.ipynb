{
 "cells": [
  {
   "cell_type": "markdown",
   "metadata": {},
   "source": [
    "# Exploring Models"
   ]
  },
  {
   "cell_type": "markdown",
   "metadata": {},
   "source": [
    "## Background\n",
    "\n",
    "Often, stormpy is used as a testbed for new algorithms.\n",
    "An essential step is to transfer the (low-level) descriptions of an MDP or other state-based model into\n",
    "an own algorithm. In this section, we discuss some of the functionality."
   ]
  },
  {
   "cell_type": "markdown",
   "metadata": {},
   "source": [
    "## Reading MDPs\n",
    "\n",
    "[01-exploration.py](https://github.com/moves-rwth/stormpy/blob/master/examples/exploration/01-exploration.py)\n",
    "\n",
    "In [Getting Started](../getting_started.ipynb), we briefly iterated over a DTMC. In this section, we explore an MDP:"
   ]
  },
  {
   "cell_type": "code",
   "execution_count": null,
   "metadata": {
    "hide-output": false,
    "scrolled": true
   },
   "outputs": [],
   "source": [
    "import doctest\n",
    "\n",
    "doctest.ELLIPSIS_MARKER = \"-etc-\"\n",
    "import stormpy\n",
    "import stormpy.examples\n",
    "import stormpy.examples.files\n",
    "\n",
    "program = stormpy.parse_prism_program(stormpy.examples.files.prism_mdp_maze)\n",
    "prop = 'R=? [F \"goal\"]'\n",
    "\n",
    "properties = stormpy.parse_properties_for_prism_program(prop, program, None)\n",
    "model = stormpy.build_model(program, properties)"
   ]
  },
  {
   "cell_type": "markdown",
   "metadata": {},
   "source": [
    "The iteration over the model is as before, but now, for every action, we can have several transitions:"
   ]
  },
  {
   "cell_type": "code",
   "execution_count": null,
   "metadata": {
    "hide-output": false,
    "scrolled": true
   },
   "outputs": [],
   "source": [
    "for state in model.states:\n",
    "    if state.id in model.initial_states:\n",
    "        print(\"State {} is initial\".format(state.id))\n",
    "    for action in state.actions:\n",
    "        for transition in action.transitions:\n",
    "            print(\"From state {} by action {}, with probability {}, go to state {}\".format(state, action, transition.value(), transition.column))"
   ]
  },
  {
   "cell_type": "markdown",
   "metadata": {},
   "source": [
    "Internally, storm can hold hints to the origin of the actions, which may be helpful to give meaning and for debugging.\n",
    "As the availability and the encoding of this data depends on the input model, we discuss these features in highlevel_models.\n",
    "\n",
    "Storm currently supports deterministic rewards on states or actions. More information can be found in [Reward Models](reward_models.ipynb)."
   ]
  },
  {
   "cell_type": "markdown",
   "metadata": {},
   "source": [
    "## Reading POMDPs\n",
    "\n",
    "[02-exploration.py](https://github.com/moves-rwth/stormpy/blob/master/examples/exploration/02-exploration.py)\n",
    "\n",
    "Internally, POMDPs extend MDPs. Thus, iterating over the MDP is done as before.\n",
    "\n"
   ]
  },
  {
   "cell_type": "code",
   "execution_count": null,
   "metadata": {
    "scrolled": true
   },
   "outputs": [],
   "source": [
    "import stormpy\n",
    "import stormpy.examples\n",
    "import stormpy.examples.files\n",
    "\n",
    "program = stormpy.parse_prism_program(stormpy.examples.files.prism_pomdp_maze)\n",
    "prop = 'R=? [F \"goal\"]'\n",
    "properties = stormpy.parse_properties_for_prism_program(prop, program, None)\n",
    "model = stormpy.build_model(program, properties)"
   ]
  },
  {
   "cell_type": "markdown",
   "metadata": {},
   "source": [
    "Indeed, all that changed in the code above is the example we use.\n",
    "And, that the model type now is a POMDP:"
   ]
  },
  {
   "cell_type": "code",
   "execution_count": null,
   "metadata": {
    "hide-output": false,
    "scrolled": true
   },
   "outputs": [],
   "source": [
    "print(model.model_type)"
   ]
  },
  {
   "cell_type": "markdown",
   "metadata": {},
   "source": [
    "Additionally, POMDPs have a set of observations, which are internally just numbered by an integer from 0 to the number of observations -1"
   ]
  },
  {
   "cell_type": "code",
   "execution_count": null,
   "metadata": {
    "hide-output": false,
    "scrolled": true
   },
   "outputs": [],
   "source": [
    "print(model.nr_observations)\n",
    "for state in model.states:\n",
    "    print(\"State {} has observation id {}\".format(state.id, model.observations[state.id]))"
   ]
  },
  {
   "cell_type": "markdown",
   "metadata": {},
   "source": [
    "## Sorting states\n",
    "\n",
    "[03-exploration.py](https://github.com/moves-rwth/stormpy/blob/master/examples/exploration/03-exploration.py)\n",
    "\n",
    "Often, one may sort the states according to the graph structure.\n",
    "Storm supports some of these sorting algorithms, e.g., topological sort."
   ]
  },
  {
   "cell_type": "markdown",
   "metadata": {},
   "source": [
    "## Reading MAs\n",
    "\n",
    "To be continued…"
   ]
  }
 ],
 "metadata": {
  "date": 1598178167.1595793,
  "filename": "exploration.rst",
  "kernelspec": {
   "display_name": "Python 3",
   "language": "python",
   "name": "python3"
  },
  "language_info": {
   "codemirror_mode": {
    "name": "ipython",
    "version": 3
   },
   "file_extension": ".py",
   "mimetype": "text/x-python",
   "name": "python",
   "nbconvert_exporter": "python",
   "pygments_lexer": "ipython3",
   "version": "3.8.2"
  },
  "title": "Exploring Models"
 },
 "nbformat": 4,
 "nbformat_minor": 4
}
