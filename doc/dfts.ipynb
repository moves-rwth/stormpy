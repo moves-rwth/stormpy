{
 "cells": [
  {
   "cell_type": "markdown",
   "metadata": {},
   "source": [
    "# Dynamic Fault Trees"
   ]
  },
  {
   "cell_type": "markdown",
   "metadata": {},
   "source": [
    "## Building DFTs\n",
    "\n",
    "[01-dfts.py](https://github.com/moves-rwth/stormpy/blob/master/examples/dfts/01-dfts.py)\n",
    "\n",
    "Dynamic fault trees can be loaded from either the Galileo format or from a custom JSON form.\n",
    "A file containing the DFT in the Galileo format can be loaded via `load_dft_galileo_file(path)`.\n",
    "The custom JSON format can be loaded from a file via `load_dft_json_file(path)` or directly from a string via `load_dft_json_string(path)`.\n",
    "We start by loading a simple DFT containing an AND gate from JSON:"
   ]
  },
  {
   "cell_type": "code",
   "execution_count": 1,
   "metadata": {
    "execution": {
     "iopub.execute_input": "2025-04-04T13:46:16.857723Z",
     "iopub.status.busy": "2025-04-04T13:46:16.857538Z",
     "iopub.status.idle": "2025-04-04T13:46:16.909723Z",
     "shell.execute_reply": "2025-04-04T13:46:16.909186Z"
    },
    "hide-output": false
   },
   "outputs": [
    {
     "name": "stdout",
     "output_type": "stream",
     "text": [
      "Top level index: 2, Nr BEs2\n"
     ]
    }
   ],
   "source": [
    "import stormpy\n",
    "import stormpy.dft\n",
    "import stormpy.examples\n",
    "import stormpy.examples.files\n",
    "\n",
    "path_json = stormpy.examples.files.dft_json_and\n",
    "dft_small = stormpy.dft.load_dft_json_file(path_json)\n",
    "print(dft_small)"
   ]
  },
  {
   "cell_type": "markdown",
   "metadata": {},
   "source": [
    "Next we load a more complex DFT from the Galileo format:"
   ]
  },
  {
   "cell_type": "code",
   "execution_count": 2,
   "metadata": {
    "execution": {
     "iopub.execute_input": "2025-04-04T13:46:16.911429Z",
     "iopub.status.busy": "2025-04-04T13:46:16.911246Z",
     "iopub.status.idle": "2025-04-04T13:46:16.922072Z",
     "shell.execute_reply": "2025-04-04T13:46:16.921663Z"
    },
    "hide-output": false
   },
   "outputs": [],
   "source": [
    "path_galileo = stormpy.examples.files.dft_galileo_hecs\n",
    "dft = stormpy.dft.load_dft_galileo_file(path_galileo)"
   ]
  },
  {
   "cell_type": "markdown",
   "metadata": {},
   "source": [
    "After loading the DFT, we can display some common statistics about the model:"
   ]
  },
  {
   "cell_type": "code",
   "execution_count": 3,
   "metadata": {
    "execution": {
     "iopub.execute_input": "2025-04-04T13:46:16.923544Z",
     "iopub.status.busy": "2025-04-04T13:46:16.923382Z",
     "iopub.status.idle": "2025-04-04T13:46:16.926372Z",
     "shell.execute_reply": "2025-04-04T13:46:16.925968Z"
    },
    "hide-output": false
   },
   "outputs": [
    {
     "name": "stdout",
     "output_type": "stream",
     "text": [
      "DFT with 23 elements.\n",
      "DFT has 13 BEs and 2 dynamic elements.\n"
     ]
    }
   ],
   "source": [
    "print(\"DFT with {} elements.\".format(dft.nr_elements()))\n",
    "print(\"DFT has {} BEs and {} dynamic elements.\".format(dft.nr_be(), dft.nr_dynamic()))"
   ]
  },
  {
   "cell_type": "markdown",
   "metadata": {},
   "source": [
    "## Analyzing DFTs\n",
    "\n",
    "[01-dfts.py](https://github.com/moves-rwth/stormpy/blob/master/examples/dfts/01-dfts.py)\n",
    "\n",
    "The next step is to analyze the DFT via `analyze_dft(dft, formula)`.\n",
    "Here we can use all standard properties as described in [Building properties](../getting_started.ipynb#building-properties).\n",
    "In our example we compute the Mean-time-to-failure (MTTF):"
   ]
  },
  {
   "cell_type": "code",
   "execution_count": 4,
   "metadata": {
    "execution": {
     "iopub.execute_input": "2025-04-04T13:46:16.927755Z",
     "iopub.status.busy": "2025-04-04T13:46:16.927582Z",
     "iopub.status.idle": "2025-04-04T13:46:16.933263Z",
     "shell.execute_reply": "2025-04-04T13:46:16.932859Z"
    },
    "hide-output": false
   },
   "outputs": [
    {
     "name": "stdout",
     "output_type": "stream",
     "text": [
      "MTTF: 363.89\n"
     ]
    }
   ],
   "source": [
    "formula_str = 'T=? [ F \"failed\" ]'\n",
    "formulas = stormpy.parse_properties(formula_str)\n",
    "results = stormpy.dft.analyze_dft(dft, [formulas[0].raw_formula])\n",
    "result = results[0]\n",
    "print(\"MTTF: {:.2f}\".format(result))"
   ]
  }
 ],
 "metadata": {
  "date": 1598178167.1422036,
  "filename": "dfts.rst",
  "kernelspec": {
   "display_name": "Python 3",
   "language": "python",
   "name": "python3"
  },
  "language_info": {
   "codemirror_mode": {
    "name": "ipython",
    "version": 3
   },
   "file_extension": ".py",
   "mimetype": "text/x-python",
   "name": "python",
   "nbconvert_exporter": "python",
   "pygments_lexer": "ipython3",
   "version": "3.12.3"
  },
  "title": "Dynamic Fault Trees"
 },
 "nbformat": 4,
 "nbformat_minor": 4
}
