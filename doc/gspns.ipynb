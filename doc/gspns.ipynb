{
 "cells": [
  {
   "cell_type": "markdown",
   "metadata": {},
   "source": [
    "# Generalized Stochastic Petri Nets"
   ]
  },
  {
   "cell_type": "markdown",
   "metadata": {},
   "source": [
    "## Loading GSPNs\n",
    "\n",
    "[01-gspns.py](https://github.com/moves-rwth/stormpy/blob/master/examples/gspns/01-gspns.py)\n",
    "\n",
    "Generalized stochastic Petri nets can be given either in the PNPRO format or in the PNML format.\n",
    "We start by loading a GSPN stored in the PNML format:"
   ]
  },
  {
   "cell_type": "code",
   "execution_count": 1,
   "metadata": {
    "execution": {
     "iopub.execute_input": "2025-07-11T12:42:48.772423Z",
     "iopub.status.busy": "2025-07-11T12:42:48.772022Z",
     "iopub.status.idle": "2025-07-11T12:42:48.845398Z",
     "shell.execute_reply": "2025-07-11T12:42:48.844832Z"
    },
    "hide-output": false
   },
   "outputs": [],
   "source": [
    "import stormpy\n",
    "import stormpy.gspn\n",
    "import stormpy.examples\n",
    "import stormpy.examples.files\n",
    "\n",
    "import_path = stormpy.examples.files.gspn_pnml_simple\n",
    "gspn_parser = stormpy.gspn.GSPNParser()\n",
    "gspn = gspn_parser.parse(import_path)"
   ]
  },
  {
   "cell_type": "markdown",
   "metadata": {},
   "source": [
    "After loading, we can display some properties of the GSPN:"
   ]
  },
  {
   "cell_type": "code",
   "execution_count": 2,
   "metadata": {
    "execution": {
     "iopub.execute_input": "2025-07-11T12:42:48.847194Z",
     "iopub.status.busy": "2025-07-11T12:42:48.847031Z",
     "iopub.status.idle": "2025-07-11T12:42:48.849848Z",
     "shell.execute_reply": "2025-07-11T12:42:48.849435Z"
    },
    "hide-output": false
   },
   "outputs": [
    {
     "name": "stdout",
     "output_type": "stream",
     "text": [
      "Name of GSPN: simple_gspn.\n"
     ]
    }
   ],
   "source": [
    "print(\"Name of GSPN: {}.\".format(gspn.get_name()))"
   ]
  },
  {
   "cell_type": "code",
   "execution_count": 3,
   "metadata": {
    "execution": {
     "iopub.execute_input": "2025-07-11T12:42:48.851364Z",
     "iopub.status.busy": "2025-07-11T12:42:48.851097Z",
     "iopub.status.idle": "2025-07-11T12:42:48.853834Z",
     "shell.execute_reply": "2025-07-11T12:42:48.853423Z"
    }
   },
   "outputs": [
    {
     "name": "stdout",
     "output_type": "stream",
     "text": [
      "Number of places: 4.\n"
     ]
    }
   ],
   "source": [
    "print(\"Number of places: {}.\".format(gspn.get_number_of_places()))"
   ]
  },
  {
   "cell_type": "code",
   "execution_count": 4,
   "metadata": {
    "execution": {
     "iopub.execute_input": "2025-07-11T12:42:48.855441Z",
     "iopub.status.busy": "2025-07-11T12:42:48.855085Z",
     "iopub.status.idle": "2025-07-11T12:42:48.857679Z",
     "shell.execute_reply": "2025-07-11T12:42:48.857296Z"
    }
   },
   "outputs": [
    {
     "name": "stdout",
     "output_type": "stream",
     "text": [
      "Number of immediate transitions: 3.\n"
     ]
    }
   ],
   "source": [
    "print(\"Number of immediate transitions: {}.\".format(gspn.get_number_of_immediate_transitions()))"
   ]
  },
  {
   "cell_type": "code",
   "execution_count": 5,
   "metadata": {
    "execution": {
     "iopub.execute_input": "2025-07-11T12:42:48.859084Z",
     "iopub.status.busy": "2025-07-11T12:42:48.858924Z",
     "iopub.status.idle": "2025-07-11T12:42:48.861783Z",
     "shell.execute_reply": "2025-07-11T12:42:48.861365Z"
    }
   },
   "outputs": [
    {
     "name": "stdout",
     "output_type": "stream",
     "text": [
      "Number of timed transitions: 2.\n"
     ]
    }
   ],
   "source": [
    "print(\"Number of timed transitions: {}.\".format(gspn.get_number_of_timed_transitions()))"
   ]
  },
  {
   "cell_type": "markdown",
   "metadata": {},
   "source": [
    "## Building GSPNs\n",
    "\n",
    "[02-gspns.py](https://github.com/moves-rwth/stormpy/blob/master/examples/gspns/02-gspns.py)\n",
    "\n",
    "In the following, we describe how to construct GSPNs via the `GSPNBuilder`.\n",
    "First, we create an instance of the `GSPNBuilder` and set the name of the GSPN:"
   ]
  },
  {
   "cell_type": "code",
   "execution_count": 6,
   "metadata": {
    "execution": {
     "iopub.execute_input": "2025-07-11T12:42:48.863137Z",
     "iopub.status.busy": "2025-07-11T12:42:48.862977Z",
     "iopub.status.idle": "2025-07-11T12:42:48.865469Z",
     "shell.execute_reply": "2025-07-11T12:42:48.864994Z"
    },
    "hide-output": false
   },
   "outputs": [],
   "source": [
    "builder = stormpy.gspn.GSPNBuilder()\n",
    "builder.set_name(\"my_gspn\")"
   ]
  },
  {
   "cell_type": "markdown",
   "metadata": {},
   "source": [
    "In the next step, we add an immediate transition to the GSPN.\n",
    "Additionally, we define the position of the transition by setting its layout information:"
   ]
  },
  {
   "cell_type": "code",
   "execution_count": 7,
   "metadata": {
    "execution": {
     "iopub.execute_input": "2025-07-11T12:42:48.867002Z",
     "iopub.status.busy": "2025-07-11T12:42:48.866690Z",
     "iopub.status.idle": "2025-07-11T12:42:48.869248Z",
     "shell.execute_reply": "2025-07-11T12:42:48.868871Z"
    },
    "hide-output": false
   },
   "outputs": [],
   "source": [
    "it_1 = builder.add_immediate_transition(1, 0.0, \"it_1\")\n",
    "it_layout = stormpy.gspn.LayoutInfo(1.5, 2.0)\n",
    "builder.set_transition_layout_info(it_1, it_layout)"
   ]
  },
  {
   "cell_type": "markdown",
   "metadata": {},
   "source": [
    "We add a timed transition and set its layout information:"
   ]
  },
  {
   "cell_type": "code",
   "execution_count": 8,
   "metadata": {
    "execution": {
     "iopub.execute_input": "2025-07-11T12:42:48.870913Z",
     "iopub.status.busy": "2025-07-11T12:42:48.870523Z",
     "iopub.status.idle": "2025-07-11T12:42:48.873186Z",
     "shell.execute_reply": "2025-07-11T12:42:48.872720Z"
    },
    "hide-output": false
   },
   "outputs": [],
   "source": [
    "tt_1 = builder.add_timed_transition(0, 0.4, \"tt_1\")\n",
    "tt_layout = stormpy.gspn.LayoutInfo(12.5, 2.0)\n",
    "builder.set_transition_layout_info(tt_1, tt_layout)"
   ]
  },
  {
   "cell_type": "markdown",
   "metadata": {},
   "source": [
    "Next, we add two places to the GSPN and set their layouts:"
   ]
  },
  {
   "cell_type": "code",
   "execution_count": 9,
   "metadata": {
    "execution": {
     "iopub.execute_input": "2025-07-11T12:42:48.874827Z",
     "iopub.status.busy": "2025-07-11T12:42:48.874640Z",
     "iopub.status.idle": "2025-07-11T12:42:48.877588Z",
     "shell.execute_reply": "2025-07-11T12:42:48.877196Z"
    },
    "hide-output": false
   },
   "outputs": [],
   "source": [
    "place_1 = builder.add_place(1, 1, \"place_1\")\n",
    "p1_layout = stormpy.gspn.LayoutInfo(6.5, 2.0)\n",
    "builder.set_place_layout_info(place_1, p1_layout)\n",
    "\n",
    "place_2 = builder.add_place(1, 0, \"place_2\")\n",
    "p2_layout = stormpy.gspn.LayoutInfo(18.5, 2.0)\n",
    "builder.set_place_layout_info(place_2, p2_layout)"
   ]
  },
  {
   "cell_type": "markdown",
   "metadata": {},
   "source": [
    "Places and transitions can be linked by input, output and inhibition arcs.\n",
    "We add the arcs of our GSPN as follows:"
   ]
  },
  {
   "cell_type": "code",
   "execution_count": 10,
   "metadata": {
    "execution": {
     "iopub.execute_input": "2025-07-11T12:42:48.878983Z",
     "iopub.status.busy": "2025-07-11T12:42:48.878825Z",
     "iopub.status.idle": "2025-07-11T12:42:48.881285Z",
     "shell.execute_reply": "2025-07-11T12:42:48.880904Z"
    },
    "hide-output": false
   },
   "outputs": [],
   "source": [
    "builder.add_output_arc(it_1, place_1)\n",
    "builder.add_inhibition_arc(place_1, it_1)\n",
    "builder.add_input_arc(place_1, tt_1)\n",
    "builder.add_output_arc(tt_1, place_2)"
   ]
  },
  {
   "cell_type": "markdown",
   "metadata": {},
   "source": [
    "We can now build the GSPN:"
   ]
  },
  {
   "cell_type": "code",
   "execution_count": 11,
   "metadata": {
    "execution": {
     "iopub.execute_input": "2025-07-11T12:42:48.882637Z",
     "iopub.status.busy": "2025-07-11T12:42:48.882477Z",
     "iopub.status.idle": "2025-07-11T12:42:48.884931Z",
     "shell.execute_reply": "2025-07-11T12:42:48.884528Z"
    },
    "hide-output": false
   },
   "outputs": [],
   "source": [
    "gspn = builder.build_gspn()"
   ]
  },
  {
   "cell_type": "markdown",
   "metadata": {},
   "source": [
    "After building, we export the GSPN.\n",
    "GSPNs can be saved in the PNPRO format via `export_gspn_pnpro_file(path)` and in the PNML format via `export_gspn_pnml_file(path)`.\n",
    "We export the GSPN into the PNPRO format:"
   ]
  },
  {
   "cell_type": "code",
   "execution_count": 12,
   "metadata": {
    "execution": {
     "iopub.execute_input": "2025-07-11T12:42:48.886315Z",
     "iopub.status.busy": "2025-07-11T12:42:48.886159Z",
     "iopub.status.idle": "2025-07-11T12:42:48.889381Z",
     "shell.execute_reply": "2025-07-11T12:42:48.888975Z"
    },
    "hide-output": false
   },
   "outputs": [
    {
     "name": "stdout",
     "output_type": "stream",
     "text": [
      "Write to file /opt/venv/lib/python3.13/site-packages/stormpy/examples/files/gspn/gspn_simple.pnpro.\n"
     ]
    }
   ],
   "source": [
    "export_path = stormpy.examples.files.gspn_pnpro_simple\n",
    "gspn.export_gspn_pnpro_file(export_path)"
   ]
  }
 ],
 "metadata": {
  "date": 1598178167.1731207,
  "filename": "gspns.rst",
  "kernelspec": {
   "display_name": "Python 3",
   "language": "python",
   "name": "python3"
  },
  "language_info": {
   "codemirror_mode": {
    "name": "ipython",
    "version": 3
   },
   "file_extension": ".py",
   "mimetype": "text/x-python",
   "name": "python",
   "nbconvert_exporter": "python",
   "pygments_lexer": "ipython3",
   "version": "3.13.3"
  },
  "title": "Generalized Stochastic Petri Nets"
 },
 "nbformat": 4,
 "nbformat_minor": 4
}
