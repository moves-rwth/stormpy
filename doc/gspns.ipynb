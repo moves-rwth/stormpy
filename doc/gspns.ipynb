{
 "cells": [
  {
   "cell_type": "markdown",
   "metadata": {},
   "source": [
    "# Generalized Stochastic Petri Nets"
   ]
  },
  {
   "cell_type": "markdown",
   "metadata": {},
   "source": [
    "## Loading GSPNs\n",
    "\n",
    "[01-gspns.py](https://github.com/moves-rwth/stormpy/blob/master/examples/gspns/01-gspns.py)\n",
    "\n",
    "Generalized stochastic Petri nets can be given either in the PNPRO format or in the PNML format.\n",
    "We start by loading a GSPN stored in the PNML format:"
   ]
  },
  {
   "cell_type": "code",
   "execution_count": 1,
   "metadata": {
    "execution": {
     "iopub.execute_input": "2025-08-20T12:59:06.786189Z",
     "iopub.status.busy": "2025-08-20T12:59:06.786023Z",
     "iopub.status.idle": "2025-08-20T12:59:06.859071Z",
     "shell.execute_reply": "2025-08-20T12:59:06.858527Z"
    },
    "hide-output": false
   },
   "outputs": [],
   "source": [
    "import stormpy\n",
    "import stormpy.gspn\n",
    "import stormpy.examples\n",
    "import stormpy.examples.files\n",
    "\n",
    "import_path = stormpy.examples.files.gspn_pnml_simple\n",
    "gspn_parser = stormpy.gspn.GSPNParser()\n",
    "gspn = gspn_parser.parse(import_path)"
   ]
  },
  {
   "cell_type": "markdown",
   "metadata": {},
   "source": [
    "After loading, we can display some properties of the GSPN:"
   ]
  },
  {
   "cell_type": "code",
   "execution_count": 2,
   "metadata": {
    "execution": {
     "iopub.execute_input": "2025-08-20T12:59:06.860900Z",
     "iopub.status.busy": "2025-08-20T12:59:06.860720Z",
     "iopub.status.idle": "2025-08-20T12:59:06.863393Z",
     "shell.execute_reply": "2025-08-20T12:59:06.863011Z"
    },
    "hide-output": false
   },
   "outputs": [
    {
     "name": "stdout",
     "output_type": "stream",
     "text": [
      "Name of GSPN: simple_gspn.\n"
     ]
    }
   ],
   "source": [
    "print(\"Name of GSPN: {}.\".format(gspn.get_name()))"
   ]
  },
  {
   "cell_type": "code",
   "execution_count": 3,
   "metadata": {
    "execution": {
     "iopub.execute_input": "2025-08-20T12:59:06.864771Z",
     "iopub.status.busy": "2025-08-20T12:59:06.864617Z",
     "iopub.status.idle": "2025-08-20T12:59:06.867321Z",
     "shell.execute_reply": "2025-08-20T12:59:06.866848Z"
    }
   },
   "outputs": [
    {
     "name": "stdout",
     "output_type": "stream",
     "text": [
      "Number of places: 4.\n"
     ]
    }
   ],
   "source": [
    "print(\"Number of places: {}.\".format(gspn.get_number_of_places()))"
   ]
  },
  {
   "cell_type": "code",
   "execution_count": 4,
   "metadata": {
    "execution": {
     "iopub.execute_input": "2025-08-20T12:59:06.868658Z",
     "iopub.status.busy": "2025-08-20T12:59:06.868507Z",
     "iopub.status.idle": "2025-08-20T12:59:06.870843Z",
     "shell.execute_reply": "2025-08-20T12:59:06.870455Z"
    }
   },
   "outputs": [
    {
     "name": "stdout",
     "output_type": "stream",
     "text": [
      "Number of immediate transitions: 3.\n"
     ]
    }
   ],
   "source": [
    "print(\"Number of immediate transitions: {}.\".format(gspn.get_number_of_immediate_transitions()))"
   ]
  },
  {
   "cell_type": "code",
   "execution_count": 5,
   "metadata": {
    "execution": {
     "iopub.execute_input": "2025-08-20T12:59:06.872150Z",
     "iopub.status.busy": "2025-08-20T12:59:06.872009Z",
     "iopub.status.idle": "2025-08-20T12:59:06.874426Z",
     "shell.execute_reply": "2025-08-20T12:59:06.874058Z"
    }
   },
   "outputs": [
    {
     "name": "stdout",
     "output_type": "stream",
     "text": [
      "Number of timed transitions: 2.\n"
     ]
    }
   ],
   "source": [
    "print(\"Number of timed transitions: {}.\".format(gspn.get_number_of_timed_transitions()))"
   ]
  },
  {
   "cell_type": "markdown",
   "metadata": {},
   "source": [
    "## Building GSPNs\n",
    "\n",
    "[02-gspns.py](https://github.com/moves-rwth/stormpy/blob/master/examples/gspns/02-gspns.py)\n",
    "\n",
    "In the following, we describe how to construct GSPNs via the `GSPNBuilder`.\n",
    "First, we create an instance of the `GSPNBuilder` and set the name of the GSPN:"
   ]
  },
  {
   "cell_type": "code",
   "execution_count": 6,
   "metadata": {
    "execution": {
     "iopub.execute_input": "2025-08-20T12:59:06.875737Z",
     "iopub.status.busy": "2025-08-20T12:59:06.875596Z",
     "iopub.status.idle": "2025-08-20T12:59:06.877906Z",
     "shell.execute_reply": "2025-08-20T12:59:06.877491Z"
    },
    "hide-output": false
   },
   "outputs": [],
   "source": [
    "builder = stormpy.gspn.GSPNBuilder()\n",
    "builder.set_name(\"my_gspn\")"
   ]
  },
  {
   "cell_type": "markdown",
   "metadata": {},
   "source": [
    "In the next step, we add an immediate transition to the GSPN.\n",
    "Additionally, we define the position of the transition by setting its layout information:"
   ]
  },
  {
   "cell_type": "code",
   "execution_count": 7,
   "metadata": {
    "execution": {
     "iopub.execute_input": "2025-08-20T12:59:06.879219Z",
     "iopub.status.busy": "2025-08-20T12:59:06.879080Z",
     "iopub.status.idle": "2025-08-20T12:59:06.881526Z",
     "shell.execute_reply": "2025-08-20T12:59:06.881130Z"
    },
    "hide-output": false
   },
   "outputs": [],
   "source": [
    "it_1 = builder.add_immediate_transition(1, 0.0, \"it_1\")\n",
    "it_layout = stormpy.gspn.LayoutInfo(1.5, 2.0)\n",
    "builder.set_transition_layout_info(it_1, it_layout)"
   ]
  },
  {
   "cell_type": "markdown",
   "metadata": {},
   "source": [
    "We add a timed transition and set its layout information:"
   ]
  },
  {
   "cell_type": "code",
   "execution_count": 8,
   "metadata": {
    "execution": {
     "iopub.execute_input": "2025-08-20T12:59:06.882864Z",
     "iopub.status.busy": "2025-08-20T12:59:06.882701Z",
     "iopub.status.idle": "2025-08-20T12:59:06.885159Z",
     "shell.execute_reply": "2025-08-20T12:59:06.884733Z"
    },
    "hide-output": false
   },
   "outputs": [],
   "source": [
    "tt_1 = builder.add_timed_transition(0, 0.4, \"tt_1\")\n",
    "tt_layout = stormpy.gspn.LayoutInfo(12.5, 2.0)\n",
    "builder.set_transition_layout_info(tt_1, tt_layout)"
   ]
  },
  {
   "cell_type": "markdown",
   "metadata": {},
   "source": [
    "Next, we add two places to the GSPN and set their layouts:"
   ]
  },
  {
   "cell_type": "code",
   "execution_count": 9,
   "metadata": {
    "execution": {
     "iopub.execute_input": "2025-08-20T12:59:06.886513Z",
     "iopub.status.busy": "2025-08-20T12:59:06.886372Z",
     "iopub.status.idle": "2025-08-20T12:59:06.888963Z",
     "shell.execute_reply": "2025-08-20T12:59:06.888565Z"
    },
    "hide-output": false
   },
   "outputs": [],
   "source": [
    "place_1 = builder.add_place(1, 1, \"place_1\")\n",
    "p1_layout = stormpy.gspn.LayoutInfo(6.5, 2.0)\n",
    "builder.set_place_layout_info(place_1, p1_layout)\n",
    "\n",
    "place_2 = builder.add_place(1, 0, \"place_2\")\n",
    "p2_layout = stormpy.gspn.LayoutInfo(18.5, 2.0)\n",
    "builder.set_place_layout_info(place_2, p2_layout)"
   ]
  },
  {
   "cell_type": "markdown",
   "metadata": {},
   "source": [
    "Places and transitions can be linked by input, output and inhibition arcs.\n",
    "We add the arcs of our GSPN as follows:"
   ]
  },
  {
   "cell_type": "code",
   "execution_count": 10,
   "metadata": {
    "execution": {
     "iopub.execute_input": "2025-08-20T12:59:06.890290Z",
     "iopub.status.busy": "2025-08-20T12:59:06.890148Z",
     "iopub.status.idle": "2025-08-20T12:59:06.892464Z",
     "shell.execute_reply": "2025-08-20T12:59:06.892086Z"
    },
    "hide-output": false
   },
   "outputs": [],
   "source": [
    "builder.add_output_arc(it_1, place_1)\n",
    "builder.add_inhibition_arc(place_1, it_1)\n",
    "builder.add_input_arc(place_1, tt_1)\n",
    "builder.add_output_arc(tt_1, place_2)"
   ]
  },
  {
   "cell_type": "markdown",
   "metadata": {},
   "source": [
    "We can now build the GSPN:"
   ]
  },
  {
   "cell_type": "code",
   "execution_count": 11,
   "metadata": {
    "execution": {
     "iopub.execute_input": "2025-08-20T12:59:06.893909Z",
     "iopub.status.busy": "2025-08-20T12:59:06.893728Z",
     "iopub.status.idle": "2025-08-20T12:59:06.895993Z",
     "shell.execute_reply": "2025-08-20T12:59:06.895586Z"
    },
    "hide-output": false
   },
   "outputs": [],
   "source": [
    "gspn = builder.build_gspn()"
   ]
  },
  {
   "cell_type": "markdown",
   "metadata": {},
   "source": [
    "After building, we export the GSPN.\n",
    "GSPNs can be saved in the PNPRO format via `export_gspn_pnpro_file(path)` and in the PNML format via `export_gspn_pnml_file(path)`.\n",
    "We export the GSPN into the PNPRO format:"
   ]
  },
  {
   "cell_type": "code",
   "execution_count": 12,
   "metadata": {
    "execution": {
     "iopub.execute_input": "2025-08-20T12:59:06.897412Z",
     "iopub.status.busy": "2025-08-20T12:59:06.897264Z",
     "iopub.status.idle": "2025-08-20T12:59:06.900623Z",
     "shell.execute_reply": "2025-08-20T12:59:06.900116Z"
    },
    "hide-output": false
   },
   "outputs": [
    {
     "name": "stdout",
     "output_type": "stream",
     "text": [
      "Write to file /opt/venv/lib/python3.13/site-packages/stormpy/examples/files/gspn/gspn_simple.pnpro.\n"
     ]
    }
   ],
   "source": [
    "export_path = stormpy.examples.files.gspn_pnpro_simple\n",
    "gspn.export_gspn_pnpro_file(export_path)"
   ]
  }
 ],
 "metadata": {
  "date": 1598178167.1731207,
  "filename": "gspns.rst",
  "kernelspec": {
   "display_name": "Python 3",
   "language": "python",
   "name": "python3"
  },
  "language_info": {
   "codemirror_mode": {
    "name": "ipython",
    "version": 3
   },
   "file_extension": ".py",
   "mimetype": "text/x-python",
   "name": "python",
   "nbconvert_exporter": "python",
   "pygments_lexer": "ipython3",
   "version": "3.13.3"
  },
  "title": "Generalized Stochastic Petri Nets"
 },
 "nbformat": 4,
 "nbformat_minor": 4
}
