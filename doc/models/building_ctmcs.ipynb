{
 "cells": [
  {
   "cell_type": "markdown",
   "metadata": {},
   "source": [
    "# Continuous-time Markov chains (CTMCs)"
   ]
  },
  {
   "cell_type": "markdown",
   "metadata": {},
   "source": [
    "## Background\n",
    "\n",
    "In this section, we explain how Stormpy can be used to build a simple CTMC.\n",
    "Building CTMCs works similar to building DTMCs as in [Discrete-time Markov chains (DTMCs)](building_dtmcs.ipynb), however instead of transition probabilities we use transition rates.\n",
    "\n",
    "[01-building-ctmcs.py](https://github.com/moves-rwth/stormpy/blob/master/examples/building_ctmcs/01-building-ctmcs.py)\n",
    "\n",
    "First, we import Stormpy:"
   ]
  },
  {
   "cell_type": "code",
   "execution_count": 1,
   "metadata": {
    "execution": {
     "iopub.execute_input": "2025-10-01T07:25:40.864815Z",
     "iopub.status.busy": "2025-10-01T07:25:40.864647Z",
     "iopub.status.idle": "2025-10-01T07:25:40.927702Z",
     "shell.execute_reply": "2025-10-01T07:25:40.927249Z"
    },
    "hide-output": false
   },
   "outputs": [],
   "source": [
    "import stormpy"
   ]
  },
  {
   "cell_type": "markdown",
   "metadata": {},
   "source": [
    "## Transition Matrix\n",
    "\n",
    "In this example, we build the transition matrix using a numpy array"
   ]
  },
  {
   "cell_type": "code",
   "execution_count": 2,
   "metadata": {
    "execution": {
     "iopub.execute_input": "2025-10-01T07:25:40.929510Z",
     "iopub.status.busy": "2025-10-01T07:25:40.929323Z",
     "iopub.status.idle": "2025-10-01T07:25:40.978511Z",
     "shell.execute_reply": "2025-10-01T07:25:40.978044Z"
    }
   },
   "outputs": [],
   "source": [
    "import numpy as np\n",
    "\n",
    "transitions = np.array(\n",
    "    [\n",
    "        [0, 1.5, 0, 0],\n",
    "        [3, 0, 1.5, 0],\n",
    "        [0, 3, 0, 1.5],\n",
    "        [0, 0, 3, 0],\n",
    "    ],\n",
    "    dtype=\"float64\",\n",
    ")"
   ]
  },
  {
   "cell_type": "markdown",
   "metadata": {},
   "source": [
    "The following function call returns a sparse matrix with default row groups:"
   ]
  },
  {
   "cell_type": "code",
   "execution_count": 3,
   "metadata": {
    "execution": {
     "iopub.execute_input": "2025-10-01T07:25:40.980641Z",
     "iopub.status.busy": "2025-10-01T07:25:40.980418Z",
     "iopub.status.idle": "2025-10-01T07:25:40.984542Z",
     "shell.execute_reply": "2025-10-01T07:25:40.984134Z"
    },
    "hide-output": false
   },
   "outputs": [
    {
     "name": "stdout",
     "output_type": "stream",
     "text": [
      "\t\t0\t1\t2\t3\t\n",
      "\t---- group 0/3 ---- \n",
      "0\t(\t0\t1.5\t0\t0\t\t)\t0\n",
      "\t---- group 1/3 ---- \n",
      "1\t(\t3\t0\t1.5\t0\t\t)\t1\n",
      "\t---- group 2/3 ---- \n",
      "2\t(\t0\t3\t0\t1.5\t\t)\t2\n",
      "\t---- group 3/3 ---- \n",
      "3\t(\t0\t0\t3\t0\t\t)\t3\n",
      "\t\t0\t1\t2\t3\t\n",
      "\n"
     ]
    }
   ],
   "source": [
    "transition_matrix = stormpy.build_sparse_matrix(transitions)\n",
    "print(transition_matrix)"
   ]
  },
  {
   "cell_type": "markdown",
   "metadata": {},
   "source": [
    "## Labeling\n",
    "\n",
    "The state labeling is created analogously to the previous example in [building DTMCs](building_dtmcs.ipynb#labeling):"
   ]
  },
  {
   "cell_type": "code",
   "execution_count": 4,
   "metadata": {
    "execution": {
     "iopub.execute_input": "2025-10-01T07:25:40.986226Z",
     "iopub.status.busy": "2025-10-01T07:25:40.986030Z",
     "iopub.status.idle": "2025-10-01T07:25:40.989920Z",
     "shell.execute_reply": "2025-10-01T07:25:40.989496Z"
    },
    "hide-output": false
   },
   "outputs": [],
   "source": [
    "state_labeling = stormpy.storage.StateLabeling(4)\n",
    "state_labels = {\"empty\", \"init\", \"deadlock\", \"full\"}\n",
    "for label in state_labels:\n",
    "    state_labeling.add_label(label)\n",
    "state_labeling.add_label_to_state(\"init\", 0)\n",
    "state_labeling.add_label_to_state(\"empty\", 0)\n",
    "state_labeling.add_label_to_state(\"full\", 3)"
   ]
  },
  {
   "cell_type": "markdown",
   "metadata": {},
   "source": [
    "## Building the Model\n",
    "\n",
    "Now, we can collect all components, including the choice labeling.\n",
    "To let the transition values be interpreted as rates we set rate_transitions to True:"
   ]
  },
  {
   "cell_type": "code",
   "execution_count": 5,
   "metadata": {
    "execution": {
     "iopub.execute_input": "2025-10-01T07:25:40.992255Z",
     "iopub.status.busy": "2025-10-01T07:25:40.991481Z",
     "iopub.status.idle": "2025-10-01T07:25:40.994836Z",
     "shell.execute_reply": "2025-10-01T07:25:40.994411Z"
    },
    "hide-output": false
   },
   "outputs": [],
   "source": [
    "components = stormpy.SparseModelComponents(transition_matrix=transition_matrix, state_labeling=state_labeling, rate_transitions=True)"
   ]
  },
  {
   "cell_type": "markdown",
   "metadata": {},
   "source": [
    "And finally, we can build the model:"
   ]
  },
  {
   "cell_type": "code",
   "execution_count": 6,
   "metadata": {
    "execution": {
     "iopub.execute_input": "2025-10-01T07:25:40.997209Z",
     "iopub.status.busy": "2025-10-01T07:25:40.996535Z",
     "iopub.status.idle": "2025-10-01T07:25:41.000609Z",
     "shell.execute_reply": "2025-10-01T07:25:41.000153Z"
    },
    "hide-output": false
   },
   "outputs": [
    {
     "name": "stdout",
     "output_type": "stream",
     "text": [
      "-------------------------------------------------------------- \n",
      "Model type: \tCTMC (sparse)\n",
      "States: \t4\n",
      "Transitions: \t6\n",
      "Reward Models:  none\n",
      "State Labels: \t4 labels\n",
      "   * init -> 1 item(s)\n",
      "   * empty -> 1 item(s)\n",
      "   * deadlock -> 0 item(s)\n",
      "   * full -> 1 item(s)\n",
      "Choice Labels: \tnone\n",
      "-------------------------------------------------------------- \n",
      "\n"
     ]
    }
   ],
   "source": [
    "ctmc = stormpy.storage.SparseCtmc(components)\n",
    "print(ctmc)"
   ]
  }
 ],
 "metadata": {
  "date": 1598178167.1853151,
  "filename": "building_ctmcs.rst",
  "kernelspec": {
   "display_name": "Python 3",
   "language": "python",
   "name": "python3"
  },
  "language_info": {
   "codemirror_mode": {
    "name": "ipython",
    "version": 3
   },
   "file_extension": ".py",
   "mimetype": "text/x-python",
   "name": "python",
   "nbconvert_exporter": "python",
   "pygments_lexer": "ipython3",
   "version": "3.13.3"
  },
  "title": "Continuous-time Markov chains (CTMCs)"
 },
 "nbformat": 4,
 "nbformat_minor": 4
}
