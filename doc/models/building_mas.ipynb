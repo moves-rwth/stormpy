{
 "cells": [
  {
   "cell_type": "markdown",
   "metadata": {},
   "source": [
    "# Markov automata (MAs)"
   ]
  },
  {
   "cell_type": "markdown",
   "metadata": {},
   "source": [
    "## Background\n",
    "\n",
    "We already saw the process of building [CTMCs](building_ctmcs.ipynb) and [MDPs](building_mdps.ipynb) via Stormpy.\n",
    "\n",
    "Markov automata use states that are probabilistic, i.e. like the states of an MDP, or Markovian, i.e. like the states of a CTMC.\n",
    "\n",
    "In this section, we build a small MA with five states from which the first four are Markovian.\n",
    "Since we covered the labeling already in the previous examples we omit the description here.\n",
    "The full example can be found here:\n",
    "\n",
    "[01-building-mas.py](https://github.com/moves-rwth/stormpy/blob/master/examples/building_mas/01-building-mas.py)\n",
    "\n",
    "First, we import Stormpy:"
   ]
  },
  {
   "cell_type": "code",
   "execution_count": 1,
   "metadata": {
    "execution": {
     "iopub.execute_input": "2025-05-28T12:55:11.011727Z",
     "iopub.status.busy": "2025-05-28T12:55:11.011552Z",
     "iopub.status.idle": "2025-05-28T12:55:11.052361Z",
     "shell.execute_reply": "2025-05-28T12:55:11.051807Z"
    },
    "hide-output": false
   },
   "outputs": [],
   "source": [
    "import stormpy"
   ]
  },
  {
   "cell_type": "markdown",
   "metadata": {},
   "source": [
    "## Transition Matrix\n",
    "\n",
    "For [building MDPS](building_mdps.ipynb#transition-matrix), we used the SparseMatrixBuilder to create a matrix with a custom row grouping.\n",
    "In this example, we use the numpy library.\n",
    "\n",
    "In the beginning, we create a numpy array that will be used to build the transition matrix of our model.:"
   ]
  },
  {
   "cell_type": "code",
   "execution_count": 2,
   "metadata": {
    "execution": {
     "iopub.execute_input": "2025-05-28T12:55:11.054247Z",
     "iopub.status.busy": "2025-05-28T12:55:11.054080Z",
     "iopub.status.idle": "2025-05-28T12:55:11.105721Z",
     "shell.execute_reply": "2025-05-28T12:55:11.105250Z"
    },
    "hide-output": false
   },
   "outputs": [],
   "source": [
    "import numpy as np\n",
    "\n",
    "transitions = np.array([[0, 1, 0, 0, 0], [0.8, 0, 0.2, 0, 0], [0.9, 0, 0, 0.1, 0], [0, 0, 0, 0, 1], [0, 0, 0, 1, 0], [0, 0, 0, 0, 1]], dtype=\"float64\")"
   ]
  },
  {
   "cell_type": "markdown",
   "metadata": {},
   "source": [
    "When building the matrix we define a custom row grouping by passing a list containing the starting row of each row group in ascending order:"
   ]
  },
  {
   "cell_type": "code",
   "execution_count": 3,
   "metadata": {
    "execution": {
     "iopub.execute_input": "2025-05-28T12:55:11.108101Z",
     "iopub.status.busy": "2025-05-28T12:55:11.107870Z",
     "iopub.status.idle": "2025-05-28T12:55:11.112308Z",
     "shell.execute_reply": "2025-05-28T12:55:11.111875Z"
    },
    "hide-output": false
   },
   "outputs": [
    {
     "name": "stdout",
     "output_type": "stream",
     "text": [
      "\t\t0\t1\t2\t3\t4\t\n",
      "\t---- group 0/4 ---- \n",
      "0\t(\t0\t1\t0\t0\t0\t\t)\t0\n",
      "1\t(\t0.8\t0\t0.2\t0\t0\t\t)\t1\n",
      "\t---- group 1/4 ---- \n",
      "2\t(\t0.9\t0\t0\t0.1\t0\t\t)\t2\n",
      "\t---- group 2/4 ---- \n",
      "3\t(\t0\t0\t0\t0\t1\t\t)\t3\n",
      "\t---- group 3/4 ---- \n",
      "4\t(\t0\t0\t0\t1\t0\t\t)\t4\n",
      "\t---- group 4/4 ---- \n",
      "5\t(\t0\t0\t0\t0\t1\t\t)\t5\n",
      "\t\t0\t1\t2\t3\t4\t\n",
      "\n"
     ]
    }
   ],
   "source": [
    "transition_matrix = stormpy.build_sparse_matrix(transitions, [0, 2, 3, 4, 5])\n",
    "print(transition_matrix)"
   ]
  },
  {
   "cell_type": "markdown",
   "metadata": {
    "nbsphinx": "hidden"
   },
   "source": [
    "## Labeling"
   ]
  },
  {
   "cell_type": "code",
   "execution_count": 4,
   "metadata": {
    "execution": {
     "iopub.execute_input": "2025-05-28T12:55:11.114350Z",
     "iopub.status.busy": "2025-05-28T12:55:11.114178Z",
     "iopub.status.idle": "2025-05-28T12:55:11.117555Z",
     "shell.execute_reply": "2025-05-28T12:55:11.117130Z"
    },
    "nbsphinx": "hidden"
   },
   "outputs": [],
   "source": [
    "state_labeling = stormpy.storage.StateLabeling(5)\n",
    "state_labels = {\"init\", \"deadlock\"}\n",
    "for label in state_labels:\n",
    "    state_labeling.add_label(label)\n",
    "state_labeling.add_label_to_state(\"init\", 0)\n",
    "\n",
    "choice_labeling = stormpy.storage.ChoiceLabeling(6)\n",
    "choice_labels = {\"alpha\", \"beta\"}\n",
    "for label in choice_labels:\n",
    "    choice_labeling.add_label(label)\n",
    "choice_labeling.add_label_to_choice(\"alpha\", 0)\n",
    "choice_labeling.add_label_to_choice(\"beta\", 1)"
   ]
  },
  {
   "cell_type": "markdown",
   "metadata": {},
   "source": [
    "## Markovian States\n",
    "\n",
    "In order to define which states have only one probability distribution over the successor states,\n",
    "we build a BitVector that contains the respective Markovian states:"
   ]
  },
  {
   "cell_type": "code",
   "execution_count": 5,
   "metadata": {
    "execution": {
     "iopub.execute_input": "2025-05-28T12:55:11.119344Z",
     "iopub.status.busy": "2025-05-28T12:55:11.119173Z",
     "iopub.status.idle": "2025-05-28T12:55:11.122505Z",
     "shell.execute_reply": "2025-05-28T12:55:11.122088Z"
    },
    "hide-output": false
   },
   "outputs": [],
   "source": [
    "markovian_states = stormpy.BitVector(5, [1, 2, 3, 4])"
   ]
  },
  {
   "cell_type": "markdown",
   "metadata": {
    "nbsphinx": "hidden"
   },
   "source": [
    "## Exit Rates\n",
    "\n",
    "Lastly, we initialize a list to equip every (Markovian) state with an exit rate > 0:"
   ]
  },
  {
   "cell_type": "code",
   "execution_count": 6,
   "metadata": {
    "execution": {
     "iopub.execute_input": "2025-05-28T12:55:11.124978Z",
     "iopub.status.busy": "2025-05-28T12:55:11.124210Z",
     "iopub.status.idle": "2025-05-28T12:55:11.127400Z",
     "shell.execute_reply": "2025-05-28T12:55:11.126979Z"
    },
    "nbsphinx": "hidden"
   },
   "outputs": [],
   "source": [
    "exit_rates = [0.0, 10.0, 12.0, 1.0, 1.0]"
   ]
  },
  {
   "cell_type": "markdown",
   "metadata": {},
   "source": [
    "## Building the Model\n",
    "\n",
    "Now, we can collect all components:"
   ]
  },
  {
   "cell_type": "code",
   "execution_count": 7,
   "metadata": {
    "execution": {
     "iopub.execute_input": "2025-05-28T12:55:11.129160Z",
     "iopub.status.busy": "2025-05-28T12:55:11.128991Z",
     "iopub.status.idle": "2025-05-28T12:55:11.132453Z",
     "shell.execute_reply": "2025-05-28T12:55:11.132033Z"
    },
    "hide-output": false
   },
   "outputs": [],
   "source": [
    "components = stormpy.SparseModelComponents(transition_matrix=transition_matrix, state_labeling=state_labeling, markovian_states=markovian_states)\n",
    "components.choice_labeling = choice_labeling\n",
    "components.exit_rates = exit_rates"
   ]
  },
  {
   "cell_type": "markdown",
   "metadata": {},
   "source": [
    "Finally, we can build the model:"
   ]
  },
  {
   "cell_type": "code",
   "execution_count": 8,
   "metadata": {
    "execution": {
     "iopub.execute_input": "2025-05-28T12:55:11.134926Z",
     "iopub.status.busy": "2025-05-28T12:55:11.134175Z",
     "iopub.status.idle": "2025-05-28T12:55:11.138463Z",
     "shell.execute_reply": "2025-05-28T12:55:11.137943Z"
    },
    "hide-output": false
   },
   "outputs": [
    {
     "name": "stdout",
     "output_type": "stream",
     "text": [
      "-------------------------------------------------------------- \n",
      "Model type: \tMarkov Automaton (sparse)\n",
      "States: \t5\n",
      "Transitions: \t8\n",
      "Choices: \t6\n",
      "Markovian St.: \t4\n",
      "Max. Rate: \t12\n",
      "Reward Models:  none\n",
      "State Labels: \t2 labels\n",
      "   * init -> 1 item(s)\n",
      "   * deadlock -> 0 item(s)\n",
      "Choice Labels: \t2 labels\n",
      "   * alpha -> 1 item(s)\n",
      "   * beta -> 1 item(s)\n",
      "-------------------------------------------------------------- \n",
      "\n"
     ]
    }
   ],
   "source": [
    "ma = stormpy.storage.SparseMA(components)\n",
    "print(ma)"
   ]
  }
 ],
 "metadata": {
  "celltoolbar": "Edit Metadata",
  "date": 1598178167.2185411,
  "filename": "building_mas.rst",
  "kernelspec": {
   "display_name": "Python 3",
   "language": "python",
   "name": "python3"
  },
  "language_info": {
   "codemirror_mode": {
    "name": "ipython",
    "version": 3
   },
   "file_extension": ".py",
   "mimetype": "text/x-python",
   "name": "python",
   "nbconvert_exporter": "python",
   "pygments_lexer": "ipython3",
   "version": "3.13.3"
  },
  "title": "Markov automata (MAs)"
 },
 "nbformat": 4,
 "nbformat_minor": 4
}
